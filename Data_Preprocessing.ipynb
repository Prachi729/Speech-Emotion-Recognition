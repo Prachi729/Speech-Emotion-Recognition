{
  "nbformat": 4,
  "nbformat_minor": 0,
  "metadata": {
    "colab": {
      "provenance": []
    },
    "kernelspec": {
      "name": "python3",
      "display_name": "Python 3"
    },
    "language_info": {
      "name": "python"
    }
  },
  "cells": [
    {
      "cell_type": "code",
      "source": [
        "from google.colab import drive\n",
        "drive.mount('/content/drive') #Mount Google Drive"
      ],
      "metadata": {
        "colab": {
          "base_uri": "https://localhost:8080/"
        },
        "id": "a8l8UMAi7OL2",
        "outputId": "6f7ac7a4-e00c-4d2c-b3d5-2dc13ff253f9"
      },
      "execution_count": null,
      "outputs": [
        {
          "output_type": "stream",
          "name": "stdout",
          "text": [
            "Mounted at /content/drive\n"
          ]
        }
      ]
    },
    {
      "cell_type": "code",
      "source": [
        "import os\n",
        "import librosa\n",
        "import soundfile as sf\n",
        "!pip install audiomentations\n",
        "from audiomentations import Compose, AddGaussianNoise, TimeStretch, PitchShift\n",
        "from audiomentations.core.transforms_interface import BaseWaveformTransform\n",
        "import numpy as np\n",
        "import glob\n",
        "\n",
        "tess_path = '/content/drive/MyDrive/TESS'  # Path to original TESS dataset\n",
        "augmented_path = '/content/drive/MyDrive/TESS_augmented/'  # Path to save augmented files\n",
        "os.makedirs(augmented_path, exist_ok=True)\n",
        "\n",
        "sample_rate = 22050\n",
        "\n",
        "# Adding Gaussian noise\n",
        "augment = Compose([\n",
        "    AddGaussianNoise(min_amplitude=0.001, max_amplitude=0.015, p=0.5),  # Add noise with 50% probability\n",
        "    TimeStretch(min_rate=0.8, max_rate=1.2, p=0.5),  # Time stretch change with 50% probability\n",
        "    PitchShift(min_semitones=-2.0, max_semitones=2.0, p=0.5),  # Pitch shift with 50% probability\n",
        "])\n",
        "\n",
        "\n",
        "def augment_and_save(file_path, output_dir, sample_rate=22050):\n",
        "\n",
        "    audio, sr = librosa.load(file_path, sr=sample_rate) #load audio\n",
        "\n",
        "    augmented_audio = augment(samples=audio, sample_rate=sr) # Apply augmentations\n",
        "\n",
        "    base_name = os.path.basename(file_path)\n",
        "    output_file = os.path.join(output_dir, f\"Aug_{os.path.splitext(base_name)[0]}.wav\") # set output filename to Aug_original_.wav\n",
        "\n",
        "\n",
        "    sf.write(output_file, augmented_audio, sr) # Save augmented audio\n",
        "\n",
        "wav_files = glob.glob(os.path.join(tess_path, '**', '*.wav'), recursive=True)\n",
        "\n",
        "print(f\"Found {len(wav_files)} audio files in TESS dataset.\")\n",
        "\n",
        "for wav_file in wav_files:\n",
        "    # Determine the emotion and speaker subfolder to preserve structure in augmented data\n",
        "    relative_path = os.path.relpath(wav_file, tess_path)\n",
        "    emotion_dir = os.path.dirname(relative_path)\n",
        "    output_subdir = os.path.join(augmented_path, emotion_dir)\n",
        "    os.makedirs(output_subdir, exist_ok=True)\n",
        "\n",
        "    # Augment and save\n",
        "    augment_and_save(wav_file, output_subdir, sample_rate)\n",
        "\n",
        "print(\"Data augmentation complete! Augmented files saved to /MyDrive/TESS_augmented/\")"
      ],
      "metadata": {
        "colab": {
          "base_uri": "https://localhost:8080/"
        },
        "id": "5dYw3yRbfu8-",
        "outputId": "afb506f3-78c7-481a-a4e3-bb0a9cd6cdff"
      },
      "execution_count": null,
      "outputs": [
        {
          "output_type": "stream",
          "name": "stdout",
          "text": [
            "Requirement already satisfied: audiomentations in /usr/local/lib/python3.12/dist-packages (0.43.1)\n",
            "Requirement already satisfied: numpy<3,>=1.22.0 in /usr/local/lib/python3.12/dist-packages (from audiomentations) (2.0.2)\n",
            "Requirement already satisfied: numpy-minmax<1,>=0.3.0 in /usr/local/lib/python3.12/dist-packages (from audiomentations) (0.5.0)\n",
            "Requirement already satisfied: numpy-rms<1,>=0.4.2 in /usr/local/lib/python3.12/dist-packages (from audiomentations) (0.6.0)\n",
            "Requirement already satisfied: librosa!=0.10.0,<0.12.0,>=0.8.0 in /usr/local/lib/python3.12/dist-packages (from audiomentations) (0.11.0)\n",
            "Requirement already satisfied: python-stretch<1,>=0.3.1 in /usr/local/lib/python3.12/dist-packages (from audiomentations) (0.3.1)\n",
            "Requirement already satisfied: scipy<2,>=1.4 in /usr/local/lib/python3.12/dist-packages (from audiomentations) (1.16.2)\n",
            "Requirement already satisfied: soxr<1.0.0,>=0.3.2 in /usr/local/lib/python3.12/dist-packages (from audiomentations) (0.5.0.post1)\n",
            "Requirement already satisfied: audioread>=2.1.9 in /usr/local/lib/python3.12/dist-packages (from librosa!=0.10.0,<0.12.0,>=0.8.0->audiomentations) (3.0.1)\n",
            "Requirement already satisfied: numba>=0.51.0 in /usr/local/lib/python3.12/dist-packages (from librosa!=0.10.0,<0.12.0,>=0.8.0->audiomentations) (0.60.0)\n",
            "Requirement already satisfied: scikit-learn>=1.1.0 in /usr/local/lib/python3.12/dist-packages (from librosa!=0.10.0,<0.12.0,>=0.8.0->audiomentations) (1.6.1)\n",
            "Requirement already satisfied: joblib>=1.0 in /usr/local/lib/python3.12/dist-packages (from librosa!=0.10.0,<0.12.0,>=0.8.0->audiomentations) (1.5.2)\n",
            "Requirement already satisfied: decorator>=4.3.0 in /usr/local/lib/python3.12/dist-packages (from librosa!=0.10.0,<0.12.0,>=0.8.0->audiomentations) (4.4.2)\n",
            "Requirement already satisfied: soundfile>=0.12.1 in /usr/local/lib/python3.12/dist-packages (from librosa!=0.10.0,<0.12.0,>=0.8.0->audiomentations) (0.13.1)\n",
            "Requirement already satisfied: pooch>=1.1 in /usr/local/lib/python3.12/dist-packages (from librosa!=0.10.0,<0.12.0,>=0.8.0->audiomentations) (1.8.2)\n",
            "Requirement already satisfied: typing_extensions>=4.1.1 in /usr/local/lib/python3.12/dist-packages (from librosa!=0.10.0,<0.12.0,>=0.8.0->audiomentations) (4.15.0)\n",
            "Requirement already satisfied: lazy_loader>=0.1 in /usr/local/lib/python3.12/dist-packages (from librosa!=0.10.0,<0.12.0,>=0.8.0->audiomentations) (0.4)\n",
            "Requirement already satisfied: msgpack>=1.0 in /usr/local/lib/python3.12/dist-packages (from librosa!=0.10.0,<0.12.0,>=0.8.0->audiomentations) (1.1.2)\n",
            "Requirement already satisfied: cffi>=1.0.0 in /usr/local/lib/python3.12/dist-packages (from numpy-minmax<1,>=0.3.0->audiomentations) (2.0.0)\n",
            "Requirement already satisfied: pycparser in /usr/local/lib/python3.12/dist-packages (from cffi>=1.0.0->numpy-minmax<1,>=0.3.0->audiomentations) (2.23)\n",
            "Requirement already satisfied: packaging in /usr/local/lib/python3.12/dist-packages (from lazy_loader>=0.1->librosa!=0.10.0,<0.12.0,>=0.8.0->audiomentations) (25.0)\n",
            "Requirement already satisfied: llvmlite<0.44,>=0.43.0dev0 in /usr/local/lib/python3.12/dist-packages (from numba>=0.51.0->librosa!=0.10.0,<0.12.0,>=0.8.0->audiomentations) (0.43.0)\n",
            "Requirement already satisfied: platformdirs>=2.5.0 in /usr/local/lib/python3.12/dist-packages (from pooch>=1.1->librosa!=0.10.0,<0.12.0,>=0.8.0->audiomentations) (4.5.0)\n",
            "Requirement already satisfied: requests>=2.19.0 in /usr/local/lib/python3.12/dist-packages (from pooch>=1.1->librosa!=0.10.0,<0.12.0,>=0.8.0->audiomentations) (2.32.4)\n",
            "Requirement already satisfied: threadpoolctl>=3.1.0 in /usr/local/lib/python3.12/dist-packages (from scikit-learn>=1.1.0->librosa!=0.10.0,<0.12.0,>=0.8.0->audiomentations) (3.6.0)\n",
            "Requirement already satisfied: charset_normalizer<4,>=2 in /usr/local/lib/python3.12/dist-packages (from requests>=2.19.0->pooch>=1.1->librosa!=0.10.0,<0.12.0,>=0.8.0->audiomentations) (3.4.3)\n",
            "Requirement already satisfied: idna<4,>=2.5 in /usr/local/lib/python3.12/dist-packages (from requests>=2.19.0->pooch>=1.1->librosa!=0.10.0,<0.12.0,>=0.8.0->audiomentations) (3.10)\n",
            "Requirement already satisfied: urllib3<3,>=1.21.1 in /usr/local/lib/python3.12/dist-packages (from requests>=2.19.0->pooch>=1.1->librosa!=0.10.0,<0.12.0,>=0.8.0->audiomentations) (2.5.0)\n",
            "Requirement already satisfied: certifi>=2017.4.17 in /usr/local/lib/python3.12/dist-packages (from requests>=2.19.0->pooch>=1.1->librosa!=0.10.0,<0.12.0,>=0.8.0->audiomentations) (2025.10.5)\n",
            "Found 2775 audio files in TESS dataset.\n",
            "Data augmentation complete! Augmented files saved to /MyDrive/TESS_augmented/\n"
          ]
        }
      ]
    },
    {
      "cell_type": "code",
      "source": [
        "import shutil\n",
        "\n",
        "original_path = '/content/drive/MyDrive/TESS/' # Path to original TESS dataset\n",
        "augmented_path = '/content/drive/MyDrive/TESS_augmented/' # Path to save augmented files\n",
        "combined_path = '/content/drive/MyDrive/TESS_combined/' #Path to combined new datset\n",
        "os.makedirs(combined_path, exist_ok=True)\n",
        "\n",
        "# Get list of label subdirectories from original dataset\n",
        "subdirs = [d for d in os.listdir(original_path) if os.path.isdir(os.path.join(original_path, d))]\n",
        "\n",
        "#Function to copy files from a source directory to a target directory\n",
        "def copy_files(source_dir, target_dir):\n",
        "    wav_files = glob.glob(os.path.join(source_dir, '*.wav'))\n",
        "    for wav_file in wav_files:\n",
        "        base_name = os.path.basename(wav_file)\n",
        "        target_file = os.path.join(target_dir, base_name)\n",
        "        shutil.copy2(wav_file, target_file)\n",
        "\n",
        "total = 0\n",
        "# Loop through each label subdirectory to combine original and augmented files\n",
        "for subdir in subdirs:\n",
        "    orig_sub = os.path.join(original_path, subdir)\n",
        "    aug_sub = os.path.join(augmented_path, subdir)\n",
        "    comb_sub = os.path.join(combined_path, subdir)\n",
        "    os.makedirs(comb_sub, exist_ok=True)\n",
        "\n",
        "#copy originals and augmenteds to combined subdir\n",
        "    if os.path.exists(aug_sub):\n",
        "        copy_files(orig_sub, comb_sub)\n",
        "        copy_files(aug_sub, comb_sub)\n",
        "        total += len(glob.glob(os.path.join(orig_sub, '*.wav'))) + len(glob.glob(os.path.join(aug_sub, '*.wav')))\n",
        "\n",
        "print(f\"Combined {total} files in {combined_path}\")"
      ],
      "metadata": {
        "colab": {
          "base_uri": "https://localhost:8080/"
        },
        "id": "9Czjc8qyFQmb",
        "outputId": "adab21af-6647-4725-b6be-56ea6df3dbcb"
      },
      "execution_count": null,
      "outputs": [
        {
          "output_type": "stream",
          "name": "stdout",
          "text": [
            "Combined 5550 files in /content/drive/MyDrive/TESS_combined/\n"
          ]
        }
      ]
    }
  ]
}